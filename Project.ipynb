{
  "nbformat": 4,
  "nbformat_minor": 0,
  "metadata": {
    "colab": {
      "name": "Progress.ipynb",
      "provenance": [],
      "collapsed_sections": []
    },
    "kernelspec": {
      "name": "python3",
      "display_name": "Python 3"
    }
  },
  "cells": [
    {
      "cell_type": "code",
      "metadata": {
        "id": "d9URWhWEVwRZ",
        "colab_type": "code",
        "colab": {}
      },
      "source": [
        "from google.colab import drive\n",
        "drive.mount('/content/drive')"
      ],
      "execution_count": 0,
      "outputs": []
    },
    {
      "cell_type": "code",
      "metadata": {
        "id": "dE3i51fJWam0",
        "colab_type": "code",
        "colab": {}
      },
      "source": [
        "import pandas as pd\n",
        "import numpy as np\n",
        "import matplotlib.pyplot as plt\n",
        "from sklearn.preprocessing import LabelEncoder\n",
        "from os.path import join"
      ],
      "execution_count": 0,
      "outputs": []
    },
    {
      "cell_type": "markdown",
      "metadata": {
        "id": "x9vN3pHyXit3",
        "colab_type": "text"
      },
      "source": [
        "# Reading the dataset\n",
        "First we need to get an image about the dataset we are provided(Even though the explanation is provided from the source where the data set is obtained, we should double check the dataset)\n"
      ]
    },
    {
      "cell_type": "code",
      "metadata": {
        "id": "LUvbFwjiWe7b",
        "colab_type": "code",
        "outputId": "55524761-0640-4594-cdb6-7f82216029f0",
        "colab": {
          "base_uri": "https://localhost:8080/",
          "height": 330
        }
      },
      "source": [
        "# reading the csv file\n",
        "datapath = \"/content/drive/My Drive/CS210\"\n",
        "fileName = \"googleplaystore.csv\"\n",
        "df = pd.read_csv(join(datapath,fileName))\n",
        "df.head(5)"
      ],
      "execution_count": 0,
      "outputs": [
        {
          "output_type": "execute_result",
          "data": {
            "text/html": [
              "<div>\n",
              "<style scoped>\n",
              "    .dataframe tbody tr th:only-of-type {\n",
              "        vertical-align: middle;\n",
              "    }\n",
              "\n",
              "    .dataframe tbody tr th {\n",
              "        vertical-align: top;\n",
              "    }\n",
              "\n",
              "    .dataframe thead th {\n",
              "        text-align: right;\n",
              "    }\n",
              "</style>\n",
              "<table border=\"1\" class=\"dataframe\">\n",
              "  <thead>\n",
              "    <tr style=\"text-align: right;\">\n",
              "      <th></th>\n",
              "      <th>App</th>\n",
              "      <th>Category</th>\n",
              "      <th>Rating</th>\n",
              "      <th>Reviews</th>\n",
              "      <th>Size</th>\n",
              "      <th>Installs</th>\n",
              "      <th>Type</th>\n",
              "      <th>Price</th>\n",
              "      <th>Content Rating</th>\n",
              "      <th>Genres</th>\n",
              "      <th>Last Updated</th>\n",
              "      <th>Current Ver</th>\n",
              "      <th>Android Ver</th>\n",
              "    </tr>\n",
              "  </thead>\n",
              "  <tbody>\n",
              "    <tr>\n",
              "      <th>0</th>\n",
              "      <td>Photo Editor &amp; Candy Camera &amp; Grid &amp; ScrapBook</td>\n",
              "      <td>ART_AND_DESIGN</td>\n",
              "      <td>4.1</td>\n",
              "      <td>159</td>\n",
              "      <td>19M</td>\n",
              "      <td>10,000+</td>\n",
              "      <td>Free</td>\n",
              "      <td>0</td>\n",
              "      <td>Everyone</td>\n",
              "      <td>Art &amp; Design</td>\n",
              "      <td>January 7, 2018</td>\n",
              "      <td>1.0.0</td>\n",
              "      <td>4.0.3 and up</td>\n",
              "    </tr>\n",
              "    <tr>\n",
              "      <th>1</th>\n",
              "      <td>Coloring book moana</td>\n",
              "      <td>ART_AND_DESIGN</td>\n",
              "      <td>3.9</td>\n",
              "      <td>967</td>\n",
              "      <td>14M</td>\n",
              "      <td>500,000+</td>\n",
              "      <td>Free</td>\n",
              "      <td>0</td>\n",
              "      <td>Everyone</td>\n",
              "      <td>Art &amp; Design;Pretend Play</td>\n",
              "      <td>January 15, 2018</td>\n",
              "      <td>2.0.0</td>\n",
              "      <td>4.0.3 and up</td>\n",
              "    </tr>\n",
              "    <tr>\n",
              "      <th>2</th>\n",
              "      <td>U Launcher Lite – FREE Live Cool Themes, Hide ...</td>\n",
              "      <td>ART_AND_DESIGN</td>\n",
              "      <td>4.7</td>\n",
              "      <td>87510</td>\n",
              "      <td>8.7M</td>\n",
              "      <td>5,000,000+</td>\n",
              "      <td>Free</td>\n",
              "      <td>0</td>\n",
              "      <td>Everyone</td>\n",
              "      <td>Art &amp; Design</td>\n",
              "      <td>August 1, 2018</td>\n",
              "      <td>1.2.4</td>\n",
              "      <td>4.0.3 and up</td>\n",
              "    </tr>\n",
              "    <tr>\n",
              "      <th>3</th>\n",
              "      <td>Sketch - Draw &amp; Paint</td>\n",
              "      <td>ART_AND_DESIGN</td>\n",
              "      <td>4.5</td>\n",
              "      <td>215644</td>\n",
              "      <td>25M</td>\n",
              "      <td>50,000,000+</td>\n",
              "      <td>Free</td>\n",
              "      <td>0</td>\n",
              "      <td>Teen</td>\n",
              "      <td>Art &amp; Design</td>\n",
              "      <td>June 8, 2018</td>\n",
              "      <td>Varies with device</td>\n",
              "      <td>4.2 and up</td>\n",
              "    </tr>\n",
              "    <tr>\n",
              "      <th>4</th>\n",
              "      <td>Pixel Draw - Number Art Coloring Book</td>\n",
              "      <td>ART_AND_DESIGN</td>\n",
              "      <td>4.3</td>\n",
              "      <td>967</td>\n",
              "      <td>2.8M</td>\n",
              "      <td>100,000+</td>\n",
              "      <td>Free</td>\n",
              "      <td>0</td>\n",
              "      <td>Everyone</td>\n",
              "      <td>Art &amp; Design;Creativity</td>\n",
              "      <td>June 20, 2018</td>\n",
              "      <td>1.1</td>\n",
              "      <td>4.4 and up</td>\n",
              "    </tr>\n",
              "  </tbody>\n",
              "</table>\n",
              "</div>"
            ],
            "text/plain": [
              "                                                 App  ...   Android Ver\n",
              "0     Photo Editor & Candy Camera & Grid & ScrapBook  ...  4.0.3 and up\n",
              "1                                Coloring book moana  ...  4.0.3 and up\n",
              "2  U Launcher Lite – FREE Live Cool Themes, Hide ...  ...  4.0.3 and up\n",
              "3                              Sketch - Draw & Paint  ...    4.2 and up\n",
              "4              Pixel Draw - Number Art Coloring Book  ...    4.4 and up\n",
              "\n",
              "[5 rows x 13 columns]"
            ]
          },
          "metadata": {
            "tags": []
          },
          "execution_count": 6
        }
      ]
    },
    {
      "cell_type": "code",
      "metadata": {
        "id": "tR3FAM-3a1Rn",
        "colab_type": "code",
        "outputId": "44019574-bb77-40f0-b9bb-7530733a2bf2",
        "colab": {
          "base_uri": "https://localhost:8080/",
          "height": 259
        }
      },
      "source": [
        "df.dtypes"
      ],
      "execution_count": 0,
      "outputs": [
        {
          "output_type": "execute_result",
          "data": {
            "text/plain": [
              "App                object\n",
              "Category           object\n",
              "Rating            float64\n",
              "Reviews            object\n",
              "Size               object\n",
              "Installs           object\n",
              "Type               object\n",
              "Price              object\n",
              "Content Rating     object\n",
              "Genres             object\n",
              "Last Updated       object\n",
              "Current Ver        object\n",
              "Android Ver        object\n",
              "dtype: object"
            ]
          },
          "metadata": {
            "tags": []
          },
          "execution_count": 37
        }
      ]
    },
    {
      "cell_type": "markdown",
      "metadata": {
        "id": "tqIcGPtUa6ot",
        "colab_type": "text"
      },
      "source": [
        "As can be seen, almost all of our data is in object dtype, it is dificult to make predictions with object types since we dont know what object is. With that and the possiblity of NaN values, we need to clean the dataset to our needs."
      ]
    },
    {
      "cell_type": "markdown",
      "metadata": {
        "id": "RT88ophFYOcD",
        "colab_type": "text"
      },
      "source": [
        "# Cleaning the dataset\n",
        "Data comes with unexpected values, or values such that with cleaning the value the performance of trained models will be better, and NaN values should be taken care of as well since we can not make any assumption on NaN values."
      ]
    },
    {
      "cell_type": "markdown",
      "metadata": {
        "id": "t3U1-CkHZ8C-",
        "colab_type": "text"
      },
      "source": [
        "First thing to note is that every data in \"Size\" collumn have an additional \"M\" after the size to denote tha size is in megabytes. This is not necessary if all of them have M, and if not we can convert the values to megabyte values to make more effective predictions."
      ]
    },
    {
      "cell_type": "code",
      "metadata": {
        "id": "sM2DPloclVwG",
        "colab_type": "code",
        "outputId": "d33fb053-b277-4f2a-eac7-e4fa81b45caa",
        "colab": {
          "base_uri": "https://localhost:8080/",
          "height": 34
        }
      },
      "source": [
        "df[\"Size\"].str.contains(\"k\").sum()"
      ],
      "execution_count": 0,
      "outputs": [
        {
          "output_type": "execute_result",
          "data": {
            "text/plain": [
              "316"
            ]
          },
          "metadata": {
            "tags": []
          },
          "execution_count": 60
        }
      ]
    },
    {
      "cell_type": "markdown",
      "metadata": {
        "id": "AYuVpem6le-2",
        "colab_type": "text"
      },
      "source": [
        "This shows that there are 316 apps with size denoted by kilobytes. We need to convert them to megabytes to be on the same unit"
      ]
    },
    {
      "cell_type": "code",
      "metadata": {
        "id": "YGETrjNnlpSr",
        "colab_type": "code",
        "outputId": "47bcd688-1426-49de-abee-f24ff55e9cd4",
        "colab": {
          "base_uri": "https://localhost:8080/",
          "height": 34
        }
      },
      "source": [
        "df[\"Size\"].str.contains(\"G\").sum()\n",
        "df[\"Size\"].str.contains(\"g\").sum()"
      ],
      "execution_count": 0,
      "outputs": [
        {
          "output_type": "execute_result",
          "data": {
            "text/plain": [
              "0"
            ]
          },
          "metadata": {
            "tags": []
          },
          "execution_count": 39
        }
      ]
    },
    {
      "cell_type": "markdown",
      "metadata": {
        "id": "yrnsM9DglvkP",
        "colab_type": "text"
      },
      "source": [
        "This shows that there are no apps with size denoted by gigabytes."
      ]
    },
    {
      "cell_type": "code",
      "metadata": {
        "id": "AU5vzMJrZ7VL",
        "colab_type": "code",
        "colab": {}
      },
      "source": [
        "df[\"Size\"] = df[\"Size\"].map(lambda x: x.rstrip('M')) # Strip M from size values\n",
        "df['Size'] = df['Size'].map(lambda x: str(round((float(x.rstrip('k'))/1024), 1)) if x[-1]=='k' else x) # Conver Kilobyte to megabyte if k exists in the value\n",
        "df['Size'] = df['Size'].map(lambda x: np.nan if x.startswith('Varies') else x) # place NaN if the size varies"
      ],
      "execution_count": 0,
      "outputs": []
    },
    {
      "cell_type": "markdown",
      "metadata": {
        "id": "0NvCSz0bg2yM",
        "colab_type": "text"
      },
      "source": [
        "Since the collumns containing version data is not needed, both of them are dropped."
      ]
    },
    {
      "cell_type": "code",
      "metadata": {
        "id": "rjLvv6CGdqtc",
        "colab_type": "code",
        "colab": {}
      },
      "source": [
        "df.drop(\"Current Ver\",axis = 1,inplace = True)\n",
        "df.drop(\"Android Ver\",axis = 1,inplace = True)"
      ],
      "execution_count": 0,
      "outputs": []
    },
    {
      "cell_type": "markdown",
      "metadata": {
        "id": "qyKrHUfPmCiT",
        "colab_type": "text"
      },
      "source": [
        "In the installs column, we should remove the + sign, since it is not a significant number, and remove the , character as well."
      ]
    },
    {
      "cell_type": "code",
      "metadata": {
        "id": "KBXzn7lFimho",
        "colab_type": "code",
        "colab": {}
      },
      "source": [
        "df['Installs'] = df['Installs'].map(lambda x: x.rstrip('+')) # Removing + sign\n",
        "df['Installs'] = df['Installs'].map(lambda x: ''.join(x.split(','))) # Removing , character"
      ],
      "execution_count": 0,
      "outputs": []
    },
    {
      "cell_type": "markdown",
      "metadata": {
        "id": "lJ9klpKImb6M",
        "colab_type": "text"
      },
      "source": [
        "Remove the $ sign in the price collumn"
      ]
    },
    {
      "cell_type": "code",
      "metadata": {
        "id": "OlpPq3u8mp_2",
        "colab_type": "code",
        "colab": {}
      },
      "source": [
        "df['Price'] = df['Price'].map(lambda x: x.lstrip('$').rstrip())"
      ],
      "execution_count": 0,
      "outputs": []
    },
    {
      "cell_type": "code",
      "metadata": {
        "id": "J0_eJMHDmqWy",
        "colab_type": "code",
        "outputId": "71c3770d-fb53-4f7b-badf-440a72591431",
        "colab": {
          "base_uri": "https://localhost:8080/",
          "height": 173
        }
      },
      "source": [
        "df[\"Category\"].unique()"
      ],
      "execution_count": 0,
      "outputs": [
        {
          "output_type": "execute_result",
          "data": {
            "text/plain": [
              "array(['ART_AND_DESIGN', 'AUTO_AND_VEHICLES', 'BEAUTY',\n",
              "       'BOOKS_AND_REFERENCE', 'BUSINESS', 'COMICS', 'COMMUNICATION',\n",
              "       'DATING', 'EDUCATION', 'ENTERTAINMENT', 'EVENTS', 'FINANCE',\n",
              "       'FOOD_AND_DRINK', 'HEALTH_AND_FITNESS', 'HOUSE_AND_HOME',\n",
              "       'LIBRARIES_AND_DEMO', 'LIFESTYLE', 'GAME', 'FAMILY', 'MEDICAL',\n",
              "       'SOCIAL', 'SHOPPING', 'PHOTOGRAPHY', 'SPORTS', 'TRAVEL_AND_LOCAL',\n",
              "       'TOOLS', 'PERSONALIZATION', 'PRODUCTIVITY', 'PARENTING', 'WEATHER',\n",
              "       'VIDEO_PLAYERS', 'NEWS_AND_MAGAZINES', 'MAPS_AND_NAVIGATION',\n",
              "       '1.9'], dtype=object)"
            ]
          },
          "metadata": {
            "tags": []
          },
          "execution_count": 51
        }
      ]
    },
    {
      "cell_type": "markdown",
      "metadata": {
        "id": "HOeMwAJLnoGQ",
        "colab_type": "text"
      },
      "source": [
        "We can see that there is a value in 1.9, which is not a category value. Hence we remove the entries with that category value.\n",
        "\n",
        "\n"
      ]
    },
    {
      "cell_type": "code",
      "metadata": {
        "id": "MPZG4Jy8mxs6",
        "colab_type": "code",
        "outputId": "d402d62b-c6cc-40fe-c95f-bb8f6c8ce7cc",
        "colab": {
          "base_uri": "https://localhost:8080/",
          "height": 110
        }
      },
      "source": [
        "df[df[\"Category\"] == \"1.9\"]"
      ],
      "execution_count": 0,
      "outputs": [
        {
          "output_type": "execute_result",
          "data": {
            "text/html": [
              "<div>\n",
              "<style scoped>\n",
              "    .dataframe tbody tr th:only-of-type {\n",
              "        vertical-align: middle;\n",
              "    }\n",
              "\n",
              "    .dataframe tbody tr th {\n",
              "        vertical-align: top;\n",
              "    }\n",
              "\n",
              "    .dataframe thead th {\n",
              "        text-align: right;\n",
              "    }\n",
              "</style>\n",
              "<table border=\"1\" class=\"dataframe\">\n",
              "  <thead>\n",
              "    <tr style=\"text-align: right;\">\n",
              "      <th></th>\n",
              "      <th>App</th>\n",
              "      <th>Category</th>\n",
              "      <th>Rating</th>\n",
              "      <th>Reviews</th>\n",
              "      <th>Size</th>\n",
              "      <th>Installs</th>\n",
              "      <th>Type</th>\n",
              "      <th>Price</th>\n",
              "      <th>Content Rating</th>\n",
              "      <th>Genres</th>\n",
              "      <th>Last Updated</th>\n",
              "    </tr>\n",
              "  </thead>\n",
              "  <tbody>\n",
              "    <tr>\n",
              "      <th>10472</th>\n",
              "      <td>Life Made WI-Fi Touchscreen Photo Frame</td>\n",
              "      <td>1.9</td>\n",
              "      <td>19.0</td>\n",
              "      <td>3.0M</td>\n",
              "      <td>1,000+</td>\n",
              "      <td>Free</td>\n",
              "      <td>0</td>\n",
              "      <td>Everyone</td>\n",
              "      <td>NaN</td>\n",
              "      <td>February 11, 2018</td>\n",
              "      <td>1.0.19</td>\n",
              "    </tr>\n",
              "  </tbody>\n",
              "</table>\n",
              "</div>"
            ],
            "text/plain": [
              "                                           App  ... Last Updated\n",
              "10472  Life Made WI-Fi Touchscreen Photo Frame  ...       1.0.19\n",
              "\n",
              "[1 rows x 11 columns]"
            ]
          },
          "metadata": {
            "tags": []
          },
          "execution_count": 11
        }
      ]
    },
    {
      "cell_type": "code",
      "metadata": {
        "id": "VUdIHZM6n7Qp",
        "colab_type": "code",
        "colab": {}
      },
      "source": [
        "df.drop(df.index[10472], inplace=True) # Removing the index 10472 since it has a missing category value"
      ],
      "execution_count": 0,
      "outputs": []
    },
    {
      "cell_type": "code",
      "metadata": {
        "id": "RHpAavYDoIJ8",
        "colab_type": "code",
        "outputId": "58d7f673-b07c-4142-930d-35b217682b0e",
        "colab": {
          "base_uri": "https://localhost:8080/",
          "height": 52
        }
      },
      "source": [
        "df[\"Content Rating\"].unique()"
      ],
      "execution_count": 0,
      "outputs": [
        {
          "output_type": "execute_result",
          "data": {
            "text/plain": [
              "array(['Everyone', 'Teen', 'Everyone 10+', 'Mature 17+',\n",
              "       'Adults only 18+', 'Unrated'], dtype=object)"
            ]
          },
          "metadata": {
            "tags": []
          },
          "execution_count": 55
        }
      ]
    },
    {
      "cell_type": "markdown",
      "metadata": {
        "id": "SyOGmdSUpKJ_",
        "colab_type": "text"
      },
      "source": [
        "Since there is an unrated value in Content Rating collumn, we remove the entry."
      ]
    },
    {
      "cell_type": "code",
      "metadata": {
        "id": "w0Zt_EgUoOST",
        "colab_type": "code",
        "outputId": "7bef518a-145f-4b69-f53d-72cd74017b33",
        "colab": {
          "base_uri": "https://localhost:8080/",
          "height": 108
        }
      },
      "source": [
        "df[df[\"Content Rating\"] == \"Unrated\"]"
      ],
      "execution_count": 0,
      "outputs": [
        {
          "output_type": "execute_result",
          "data": {
            "text/html": [
              "<div>\n",
              "<style scoped>\n",
              "    .dataframe tbody tr th:only-of-type {\n",
              "        vertical-align: middle;\n",
              "    }\n",
              "\n",
              "    .dataframe tbody tr th {\n",
              "        vertical-align: top;\n",
              "    }\n",
              "\n",
              "    .dataframe thead th {\n",
              "        text-align: right;\n",
              "    }\n",
              "</style>\n",
              "<table border=\"1\" class=\"dataframe\">\n",
              "  <thead>\n",
              "    <tr style=\"text-align: right;\">\n",
              "      <th></th>\n",
              "      <th>App</th>\n",
              "      <th>Category</th>\n",
              "      <th>Rating</th>\n",
              "      <th>Reviews</th>\n",
              "      <th>Size</th>\n",
              "      <th>Installs</th>\n",
              "      <th>Type</th>\n",
              "      <th>Price</th>\n",
              "      <th>Content Rating</th>\n",
              "      <th>Genres</th>\n",
              "      <th>Last Updated</th>\n",
              "    </tr>\n",
              "  </thead>\n",
              "  <tbody>\n",
              "    <tr>\n",
              "      <th>7312</th>\n",
              "      <td>Best CG Photography</td>\n",
              "      <td>FAMILY</td>\n",
              "      <td>NaN</td>\n",
              "      <td>1</td>\n",
              "      <td>2.5M</td>\n",
              "      <td>500</td>\n",
              "      <td>Free</td>\n",
              "      <td>0</td>\n",
              "      <td>Unrated</td>\n",
              "      <td>Entertainment</td>\n",
              "      <td>June 24, 2015</td>\n",
              "    </tr>\n",
              "    <tr>\n",
              "      <th>8266</th>\n",
              "      <td>DC Universe Online Map</td>\n",
              "      <td>TOOLS</td>\n",
              "      <td>4.1</td>\n",
              "      <td>1186</td>\n",
              "      <td>6.4M</td>\n",
              "      <td>50000</td>\n",
              "      <td>Free</td>\n",
              "      <td>0</td>\n",
              "      <td>Unrated</td>\n",
              "      <td>Tools</td>\n",
              "      <td>February 27, 2012</td>\n",
              "    </tr>\n",
              "  </tbody>\n",
              "</table>\n",
              "</div>"
            ],
            "text/plain": [
              "                         App Category  ...         Genres       Last Updated\n",
              "7312     Best CG Photography   FAMILY  ...  Entertainment      June 24, 2015\n",
              "8266  DC Universe Online Map    TOOLS  ...          Tools  February 27, 2012\n",
              "\n",
              "[2 rows x 11 columns]"
            ]
          },
          "metadata": {
            "tags": []
          },
          "execution_count": 56
        }
      ]
    },
    {
      "cell_type": "code",
      "metadata": {
        "id": "NauA04ibpVAW",
        "colab_type": "code",
        "colab": {}
      },
      "source": [
        "df.drop(df.index[[7312,8266]], inplace=True) # indexex 7312 and 8266 are dropped since they have Unrated content rating"
      ],
      "execution_count": 0,
      "outputs": []
    },
    {
      "cell_type": "markdown",
      "metadata": {
        "id": "-pRdi6IstYRi",
        "colab_type": "text"
      },
      "source": [
        "We need to make Numerical collumns for Content Rating and Category"
      ]
    },
    {
      "cell_type": "code",
      "metadata": {
        "id": "TPa8kdtqqqHM",
        "colab_type": "code",
        "outputId": "c37b40e7-d84e-4e41-f85e-a483caab2072",
        "colab": {
          "base_uri": "https://localhost:8080/",
          "height": 54
        }
      },
      "source": [
        "# Use a label encoder to make numeric data\n",
        "lb_make = LabelEncoder()\n",
        "\n",
        "# Create column for \"numeric\" Content Rating \n",
        "df[\"Content Rating NUMERICAL\"] = lb_make.fit_transform(df[\"Content Rating\"])\n",
        "# Form dicitonary for Content Rating and numeric values \n",
        "dict_content_rating = {\"Adults only 18+\": 0, \"Everyone\": 1, \"Everyone 10+\": 2, \"Mature 17+\": 3, \"Teen\": 4}\n",
        "# Numeric value for Content Rating\n",
        "\n",
        "# Create column for \"numeric\" Category\n",
        "df[\"Category NUMERICAL\"] = lb_make.fit_transform(df[\"Category\"])\n",
        "\n",
        "# Form dicitonary for Category and numeric values\n",
        "dict_category = {}\n",
        "val = 0\n",
        "for i in df[\"Category\"].unique():\n",
        " dict_category[i] = val\n",
        " val += 1\n",
        " \n",
        " # Therefore, the Numerical values for Categories become\n",
        "\n",
        "'''\n",
        "ART_AND_DESIGN = 0\n",
        "AUTO_AND_VEHICLES = 1\n",
        "BEAUTY = 2 \n",
        "BOOKS_AND_REFERENCE = 3\n",
        "BUSINESS = 4\n",
        "COMICS = 5\n",
        "COMMUNICATION = 6\n",
        "DATING = 7\n",
        "EDUCATION = 8\n",
        "ENTERTAINMENT = 9\n",
        "EVENTS = 10\n",
        "FAMILY = 11\n",
        "FINANCE = 12\n",
        "FOOD_AND_DRINK = 13\n",
        "GAME = 14\n",
        "HEALTH_AND_FITNESS = 15\n",
        "HOUSE_AND_HOME = 16\n",
        "LIBRARIES_AND_DEMO = 17\n",
        "LIFESTYLE = 18\n",
        "MAPS_AND_NAVIGATION = 19\n",
        "MEDICAL = 20\n",
        "NEWS_AND_MAGAZINES = 21\n",
        "PARENTING = 22\n",
        "PERSONALIZATION = 23\n",
        "PHOTOGRAPHY = 24\n",
        "PRODUCTIVITY = 25\n",
        "SHOPPING = 26\n",
        "SOCIAL = 27\n",
        "SPORTS = 28\n",
        "TOOLS = 29\n",
        "TRAVEL_AND_LOCAL = 30\n",
        "VIDEO_PLAYERS = 31\n",
        "WEATHER = 32\n",
        "'''"
      ],
      "execution_count": 0,
      "outputs": [
        {
          "output_type": "execute_result",
          "data": {
            "text/plain": [
              "'\\nART_AND_DESIGN = 0\\nAUTO_AND_VEHICLES = 1\\nBEAUTY = 2 \\nBOOKS_AND_REFERENCE = 3\\nBUSINESS = 4\\nCOMICS = 5\\nCOMMUNICATION = 6\\nDATING = 7\\nEDUCATION = 8\\nENTERTAINMENT = 9\\nEVENTS = 10\\nFAMILY = 11\\nFINANCE = 12\\nFOOD_AND_DRINK = 13\\nGAME = 14\\nHEALTH_AND_FITNESS = 15\\nHOUSE_AND_HOME = 16\\nLIBRARIES_AND_DEMO = 17\\nLIFESTYLE = 18\\nMAPS_AND_NAVIGATION = 19\\nMEDICAL = 20\\nNEWS_AND_MAGAZINES = 21\\nPARENTING = 22\\nPERSONALIZATION = 23\\nPHOTOGRAPHY = 24\\nPRODUCTIVITY = 25\\nSHOPPING = 26\\nSOCIAL = 27\\nSPORTS = 28\\nTOOLS = 29\\nTRAVEL_AND_LOCAL = 30\\nVIDEO_PLAYERS = 31\\nWEATHER = 32\\n'"
            ]
          },
          "metadata": {
            "tags": []
          },
          "execution_count": 14
        }
      ]
    },
    {
      "cell_type": "markdown",
      "metadata": {
        "id": "C85jI7lwtfqx",
        "colab_type": "text"
      },
      "source": [
        "Replace NaN values in ratings collumn with the mean of the ratings."
      ]
    },
    {
      "cell_type": "code",
      "metadata": {
        "id": "NWaxM-FgtjiJ",
        "colab_type": "code",
        "colab": {}
      },
      "source": [
        "df[\"Rating\"].fillna(value = df[\"Rating\"].mean(),inplace = True)"
      ],
      "execution_count": 0,
      "outputs": []
    },
    {
      "cell_type": "code",
      "metadata": {
        "id": "ZjrpwCn-uJSX",
        "colab_type": "code",
        "outputId": "6488cdce-f91f-4a9f-ba83-e5868c217083",
        "colab": {
          "base_uri": "https://localhost:8080/",
          "height": 259
        }
      },
      "source": [
        "df.isnull().sum()"
      ],
      "execution_count": 0,
      "outputs": [
        {
          "output_type": "execute_result",
          "data": {
            "text/plain": [
              "App                            0\n",
              "Category                       0\n",
              "Rating                         0\n",
              "Reviews                        0\n",
              "Size                        1695\n",
              "Installs                       0\n",
              "Type                           1\n",
              "Price                          0\n",
              "Content Rating                 0\n",
              "Genres                         0\n",
              "Last Updated                   0\n",
              "Content Rating NUMERICAL       0\n",
              "Category NUMERICAL             0\n",
              "dtype: int64"
            ]
          },
          "metadata": {
            "tags": []
          },
          "execution_count": 96
        }
      ]
    },
    {
      "cell_type": "markdown",
      "metadata": {
        "id": "3D9abOj5xMhb",
        "colab_type": "text"
      },
      "source": [
        "At that point, we cleared our data as best as possible but there are still NaN values in Size, which we can not make any asusmption on, and 1 NaN value in Type collumn. Therefore, we delete them from our data."
      ]
    },
    {
      "cell_type": "code",
      "metadata": {
        "id": "dleJ7rCZusM5",
        "colab_type": "code",
        "colab": {}
      },
      "source": [
        "df.dropna(axis=0, inplace=True)"
      ],
      "execution_count": 0,
      "outputs": []
    },
    {
      "cell_type": "code",
      "metadata": {
        "id": "Ms5ANx_axd3f",
        "colab_type": "code",
        "colab": {}
      },
      "source": [
        "# Change the datatype to numeric\n",
        "df['Reviews'] = pd.to_numeric(df['Reviews']) \n",
        "df['Installs'] = pd.to_numeric(df['Installs'])\n",
        "df['Price'] = pd.to_numeric(df['Price'])\n",
        "df[\"Size\"] = pd.to_numeric(df[\"Size\"])"
      ],
      "execution_count": 0,
      "outputs": []
    },
    {
      "cell_type": "code",
      "metadata": {
        "id": "PejvdsV-xqKo",
        "colab_type": "code",
        "outputId": "f7301988-4be4-4bb5-97dc-4d3a4bca5851",
        "colab": {
          "base_uri": "https://localhost:8080/",
          "height": 649
        }
      },
      "source": [
        "df"
      ],
      "execution_count": 0,
      "outputs": [
        {
          "output_type": "execute_result",
          "data": {
            "text/html": [
              "<div>\n",
              "<style scoped>\n",
              "    .dataframe tbody tr th:only-of-type {\n",
              "        vertical-align: middle;\n",
              "    }\n",
              "\n",
              "    .dataframe tbody tr th {\n",
              "        vertical-align: top;\n",
              "    }\n",
              "\n",
              "    .dataframe thead th {\n",
              "        text-align: right;\n",
              "    }\n",
              "</style>\n",
              "<table border=\"1\" class=\"dataframe\">\n",
              "  <thead>\n",
              "    <tr style=\"text-align: right;\">\n",
              "      <th></th>\n",
              "      <th>App</th>\n",
              "      <th>Category</th>\n",
              "      <th>Rating</th>\n",
              "      <th>Reviews</th>\n",
              "      <th>Size</th>\n",
              "      <th>Installs</th>\n",
              "      <th>Type</th>\n",
              "      <th>Price</th>\n",
              "      <th>Content Rating</th>\n",
              "      <th>Genres</th>\n",
              "      <th>Last Updated</th>\n",
              "      <th>Content Rating NUMERICAL</th>\n",
              "      <th>Category NUMERICAL</th>\n",
              "    </tr>\n",
              "  </thead>\n",
              "  <tbody>\n",
              "    <tr>\n",
              "      <th>0</th>\n",
              "      <td>Photo Editor &amp; Candy Camera &amp; Grid &amp; ScrapBook</td>\n",
              "      <td>ART_AND_DESIGN</td>\n",
              "      <td>4.100000</td>\n",
              "      <td>159</td>\n",
              "      <td>19</td>\n",
              "      <td>10000</td>\n",
              "      <td>Free</td>\n",
              "      <td>0.0</td>\n",
              "      <td>Everyone</td>\n",
              "      <td>Art &amp; Design</td>\n",
              "      <td>January 7, 2018</td>\n",
              "      <td>1</td>\n",
              "      <td>0</td>\n",
              "    </tr>\n",
              "    <tr>\n",
              "      <th>1</th>\n",
              "      <td>Coloring book moana</td>\n",
              "      <td>ART_AND_DESIGN</td>\n",
              "      <td>3.900000</td>\n",
              "      <td>967</td>\n",
              "      <td>14</td>\n",
              "      <td>500000</td>\n",
              "      <td>Free</td>\n",
              "      <td>0.0</td>\n",
              "      <td>Everyone</td>\n",
              "      <td>Art &amp; Design;Pretend Play</td>\n",
              "      <td>January 15, 2018</td>\n",
              "      <td>1</td>\n",
              "      <td>0</td>\n",
              "    </tr>\n",
              "    <tr>\n",
              "      <th>2</th>\n",
              "      <td>U Launcher Lite – FREE Live Cool Themes, Hide ...</td>\n",
              "      <td>ART_AND_DESIGN</td>\n",
              "      <td>4.700000</td>\n",
              "      <td>87510</td>\n",
              "      <td>8.7</td>\n",
              "      <td>5000000</td>\n",
              "      <td>Free</td>\n",
              "      <td>0.0</td>\n",
              "      <td>Everyone</td>\n",
              "      <td>Art &amp; Design</td>\n",
              "      <td>August 1, 2018</td>\n",
              "      <td>1</td>\n",
              "      <td>0</td>\n",
              "    </tr>\n",
              "    <tr>\n",
              "      <th>3</th>\n",
              "      <td>Sketch - Draw &amp; Paint</td>\n",
              "      <td>ART_AND_DESIGN</td>\n",
              "      <td>4.500000</td>\n",
              "      <td>215644</td>\n",
              "      <td>25</td>\n",
              "      <td>50000000</td>\n",
              "      <td>Free</td>\n",
              "      <td>0.0</td>\n",
              "      <td>Teen</td>\n",
              "      <td>Art &amp; Design</td>\n",
              "      <td>June 8, 2018</td>\n",
              "      <td>4</td>\n",
              "      <td>0</td>\n",
              "    </tr>\n",
              "    <tr>\n",
              "      <th>4</th>\n",
              "      <td>Pixel Draw - Number Art Coloring Book</td>\n",
              "      <td>ART_AND_DESIGN</td>\n",
              "      <td>4.300000</td>\n",
              "      <td>967</td>\n",
              "      <td>2.8</td>\n",
              "      <td>100000</td>\n",
              "      <td>Free</td>\n",
              "      <td>0.0</td>\n",
              "      <td>Everyone</td>\n",
              "      <td>Art &amp; Design;Creativity</td>\n",
              "      <td>June 20, 2018</td>\n",
              "      <td>1</td>\n",
              "      <td>0</td>\n",
              "    </tr>\n",
              "    <tr>\n",
              "      <th>...</th>\n",
              "      <td>...</td>\n",
              "      <td>...</td>\n",
              "      <td>...</td>\n",
              "      <td>...</td>\n",
              "      <td>...</td>\n",
              "      <td>...</td>\n",
              "      <td>...</td>\n",
              "      <td>...</td>\n",
              "      <td>...</td>\n",
              "      <td>...</td>\n",
              "      <td>...</td>\n",
              "      <td>...</td>\n",
              "      <td>...</td>\n",
              "    </tr>\n",
              "    <tr>\n",
              "      <th>10835</th>\n",
              "      <td>FR Forms</td>\n",
              "      <td>BUSINESS</td>\n",
              "      <td>4.191767</td>\n",
              "      <td>0</td>\n",
              "      <td>9.6</td>\n",
              "      <td>10</td>\n",
              "      <td>Free</td>\n",
              "      <td>0.0</td>\n",
              "      <td>Everyone</td>\n",
              "      <td>Business</td>\n",
              "      <td>September 29, 2016</td>\n",
              "      <td>1</td>\n",
              "      <td>4</td>\n",
              "    </tr>\n",
              "    <tr>\n",
              "      <th>10836</th>\n",
              "      <td>Sya9a Maroc - FR</td>\n",
              "      <td>FAMILY</td>\n",
              "      <td>4.500000</td>\n",
              "      <td>38</td>\n",
              "      <td>53</td>\n",
              "      <td>5000</td>\n",
              "      <td>Free</td>\n",
              "      <td>0.0</td>\n",
              "      <td>Everyone</td>\n",
              "      <td>Education</td>\n",
              "      <td>July 25, 2017</td>\n",
              "      <td>1</td>\n",
              "      <td>11</td>\n",
              "    </tr>\n",
              "    <tr>\n",
              "      <th>10837</th>\n",
              "      <td>Fr. Mike Schmitz Audio Teachings</td>\n",
              "      <td>FAMILY</td>\n",
              "      <td>5.000000</td>\n",
              "      <td>4</td>\n",
              "      <td>3.6</td>\n",
              "      <td>100</td>\n",
              "      <td>Free</td>\n",
              "      <td>0.0</td>\n",
              "      <td>Everyone</td>\n",
              "      <td>Education</td>\n",
              "      <td>July 6, 2018</td>\n",
              "      <td>1</td>\n",
              "      <td>11</td>\n",
              "    </tr>\n",
              "    <tr>\n",
              "      <th>10838</th>\n",
              "      <td>Parkinson Exercices FR</td>\n",
              "      <td>MEDICAL</td>\n",
              "      <td>4.191767</td>\n",
              "      <td>3</td>\n",
              "      <td>9.5</td>\n",
              "      <td>1000</td>\n",
              "      <td>Free</td>\n",
              "      <td>0.0</td>\n",
              "      <td>Everyone</td>\n",
              "      <td>Medical</td>\n",
              "      <td>January 20, 2017</td>\n",
              "      <td>1</td>\n",
              "      <td>20</td>\n",
              "    </tr>\n",
              "    <tr>\n",
              "      <th>10840</th>\n",
              "      <td>iHoroscope - 2018 Daily Horoscope &amp; Astrology</td>\n",
              "      <td>LIFESTYLE</td>\n",
              "      <td>4.500000</td>\n",
              "      <td>398307</td>\n",
              "      <td>19</td>\n",
              "      <td>10000000</td>\n",
              "      <td>Free</td>\n",
              "      <td>0.0</td>\n",
              "      <td>Everyone</td>\n",
              "      <td>Lifestyle</td>\n",
              "      <td>July 25, 2018</td>\n",
              "      <td>1</td>\n",
              "      <td>18</td>\n",
              "    </tr>\n",
              "  </tbody>\n",
              "</table>\n",
              "<p>9143 rows × 13 columns</p>\n",
              "</div>"
            ],
            "text/plain": [
              "                                                     App  ... Category NUMERICAL\n",
              "0         Photo Editor & Candy Camera & Grid & ScrapBook  ...                  0\n",
              "1                                    Coloring book moana  ...                  0\n",
              "2      U Launcher Lite – FREE Live Cool Themes, Hide ...  ...                  0\n",
              "3                                  Sketch - Draw & Paint  ...                  0\n",
              "4                  Pixel Draw - Number Art Coloring Book  ...                  0\n",
              "...                                                  ...  ...                ...\n",
              "10835                                           FR Forms  ...                  4\n",
              "10836                                   Sya9a Maroc - FR  ...                 11\n",
              "10837                   Fr. Mike Schmitz Audio Teachings  ...                 11\n",
              "10838                             Parkinson Exercices FR  ...                 20\n",
              "10840      iHoroscope - 2018 Daily Horoscope & Astrology  ...                 18\n",
              "\n",
              "[9143 rows x 13 columns]"
            ]
          },
          "metadata": {
            "tags": []
          },
          "execution_count": 101
        }
      ]
    },
    {
      "cell_type": "code",
      "metadata": {
        "id": "aqizKQgKUl-h",
        "colab_type": "code",
        "outputId": "75930b89-f111-4f59-f988-d587359dafad",
        "colab": {
          "base_uri": "https://localhost:8080/",
          "height": 263
        }
      },
      "source": [
        "df.dtypes"
      ],
      "execution_count": 0,
      "outputs": [
        {
          "output_type": "execute_result",
          "data": {
            "text/plain": [
              "App                          object\n",
              "Category                     object\n",
              "Rating                      float64\n",
              "Reviews                       int64\n",
              "Size                        float64\n",
              "Installs                      int64\n",
              "Type                         object\n",
              "Price                       float64\n",
              "Content Rating               object\n",
              "Genres                       object\n",
              "Last Updated                 object\n",
              "Content Rating NUMERICAL      int64\n",
              "Category NUMERICAL            int64\n",
              "dtype: object"
            ]
          },
          "metadata": {
            "tags": []
          },
          "execution_count": 58
        }
      ]
    },
    {
      "cell_type": "markdown",
      "metadata": {
        "id": "u9tb5wPlR9x8",
        "colab_type": "text"
      },
      "source": [
        "# Data Visualization"
      ]
    },
    {
      "cell_type": "code",
      "metadata": {
        "id": "08HD2OZeSC37",
        "colab_type": "code",
        "outputId": "ed5f09ee-3897-4bd5-d28c-164261dbe770",
        "colab": {
          "base_uri": "https://localhost:8080/",
          "height": 782
        }
      },
      "source": [
        "import matplotlib.pyplot as plt\n",
        "%matplotlib inline\n",
        "plot = df.groupby(\"Category\")[\"Installs\"].mean().apply(np.log10)\n",
        "plt.figure(figsize=(20,10))\n",
        "plt.ylim((4,8))\n",
        "plt.ylabel(\"Installs(log10)\")\n",
        "plot.plot(kind = 'bar')\n",
        "\n"
      ],
      "execution_count": 0,
      "outputs": [
        {
          "output_type": "execute_result",
          "data": {
            "text/plain": [
              "<matplotlib.axes._subplots.AxesSubplot at 0x7fd6cf87dac8>"
            ]
          },
          "metadata": {
            "tags": []
          },
          "execution_count": 81
        },
        {
          "output_type": "display_data",
          "data": {
            "image/png": "[encoded data removed]",
            "text/plain": [
              "<Figure size 1440x720 with 1 Axes>"
            ]
          },
          "metadata": {
            "tags": []
          }
        }
      ]
    },
    {
      "cell_type": "code",
      "metadata": {
        "id": "ZNohzNtkYOTb",
        "colab_type": "code",
        "outputId": "0de0eae5-7e87-429d-da48-4505da3a42f2",
        "colab": {
          "base_uri": "https://localhost:8080/",
          "height": 782
        }
      },
      "source": [
        "import matplotlib.pyplot as plt\n",
        "%matplotlib inline\n",
        "plot2 = df.groupby(\"Category\")[\"Rating\"].mean()\n",
        "plt.figure(figsize=(20,10))\n",
        "plt.ylim((3,5))\n",
        "plt.ylabel(\"Rating\")\n",
        "plot2.plot(kind = 'bar')"
      ],
      "execution_count": 0,
      "outputs": [
        {
          "output_type": "execute_result",
          "data": {
            "text/plain": [
              "<matplotlib.axes._subplots.AxesSubplot at 0x7fd6ce856630>"
            ]
          },
          "metadata": {
            "tags": []
          },
          "execution_count": 84
        },
        {
          "output_type": "display_data",
          "data": {
            "image/png": "[encoded data removed]",
            "text/plain": [
              "<Figure size 1440x720 with 1 Axes>"
            ]
          },
          "metadata": {
            "tags": []
          }
        }
      ]
    },
    {
      "cell_type": "markdown",
      "metadata": {
        "id": "uqbcwdhFApfV",
        "colab_type": "text"
      },
      "source": [
        "# Train Test Split"
      ]
    },
    {
      "cell_type": "code",
      "metadata": {
        "id": "hGR1nDkpA5v_",
        "colab_type": "code",
        "colab": {}
      },
      "source": [
        "from sklearn.model_selection import train_test_split\n",
        "\n",
        "df_y = df[\"Installs\"]\n",
        "df_x = df.drop([\"Installs\",\"App\",\"Category\",\"Type\",\"Content Rating\",\"Genres\",\"Last Updated\"],axis = 1)\n",
        "\n",
        "X_train_valid,X_test,y_train_valid,y_test = train_test_split(df_x, df_y, test_size= 0.125, random_state = 42)\n",
        "X_train, X_val, y_train, y_val = train_test_split(X_train_valid, y_train_valid, test_size=0.142, random_state=42)"
      ],
      "execution_count": 0,
      "outputs": []
    },
    {
      "cell_type": "code",
      "metadata": {
        "id": "cSWh1W_zETLE",
        "colab_type": "code",
        "outputId": "2fe686b1-3c36-4f9b-a34c-baeb6293ac21",
        "colab": {
          "base_uri": "https://localhost:8080/",
          "height": 140
        }
      },
      "source": [
        "df_x.dtypes"
      ],
      "execution_count": 0,
      "outputs": [
        {
          "output_type": "execute_result",
          "data": {
            "text/plain": [
              "Rating                      float64\n",
              "Reviews                       int64\n",
              "Size                        float64\n",
              "Price                       float64\n",
              "Content Rating NUMERICAL      int64\n",
              "Category NUMERICAL            int64\n",
              "dtype: object"
            ]
          },
          "metadata": {
            "tags": []
          },
          "execution_count": 30
        }
      ]
    },
    {
      "cell_type": "markdown",
      "metadata": {
        "id": "B7XMg0HddmoJ",
        "colab_type": "text"
      },
      "source": [
        "# Feature generation\n",
        "As the purpose of the project suggests, we are going to predict the number of installments before releasing an app to Playstore, and after putting an app and collecting some number of reviews, we will try to predict the optimal price for the app. We are going to use features:\n",
        "\n",
        "1)Category\n",
        "\n",
        "2)Rating\n",
        "\n",
        "3)Reviews\n",
        "\n",
        "4)Installs\n",
        "\n",
        "5)Price\n",
        "\n",
        "6)Size\n",
        "\n",
        "7)Content Rating"
      ]
    },
    {
      "cell_type": "markdown",
      "metadata": {
        "id": "_u5s9yY0ffHA",
        "colab_type": "text"
      },
      "source": [
        "# Model Selection\n",
        "This problem is a regression problem, and we are going to use Random Forest model for the purpose of this problem"
      ]
    },
    {
      "cell_type": "code",
      "metadata": {
        "id": "VVk-ves0fnXl",
        "colab_type": "code",
        "outputId": "e12287f2-87d6-4095-a4dc-28261c3b6003",
        "colab": {
          "base_uri": "https://localhost:8080/",
          "height": 52
        }
      },
      "source": [
        "from sklearn.ensemble import RandomForestClassifier\n",
        "from sklearn.metrics import accuracy_score\n",
        "from sklearn.metrics import hamming_loss\n",
        "\n",
        "rf= RandomForestClassifier(n_estimators = 100)\n",
        "rf.fit(X_train,y_train)\n",
        "\n",
        "\n",
        "rf_predictions = rf.predict(X_test)\n",
        "rf_acc = accuracy_score(y_test, rf_predictions)\n",
        "rf_ham = hamming_loss(y_test,rf_predictions)\n",
        "print(rf_ham)\n",
        "print(rf_acc)"
      ],
      "execution_count": 0,
      "outputs": [
        {
          "output_type": "stream",
          "text": [
            "0.4671916010498688\n",
            "0.5328083989501312\n"
          ],
          "name": "stdout"
        }
      ]
    },
    {
      "cell_type": "code",
      "metadata": {
        "id": "wOr4MkvBGKRR",
        "colab_type": "code",
        "outputId": "989fb336-ab38-4c34-d914-bdd47e8929ad",
        "colab": {
          "base_uri": "https://localhost:8080/",
          "height": 290
        }
      },
      "source": [
        "from sklearn.metrics import confusion_matrix\n",
        "import seaborn as sns; sns.set()\n",
        "mat = confusion_matrix(y_test, rf_predictions)\n",
        "sns.heatmap(mat.T, square=True, annot=True, fmt='d', cbar=False)\n",
        "plt.xlabel('true label')\n",
        "plt.ylabel('predicted label');"
      ],
      "execution_count": 0,
      "outputs": [
        {
          "output_type": "display_data",
          "data": {
            "image/png": "[encoded data removed]",
            "text/plain": [
              "<Figure size 432x288 with 1 Axes>"
            ]
          },
          "metadata": {
            "tags": []
          }
        }
      ]
    },
    {
      "cell_type": "markdown",
      "metadata": {
        "id": "pCJrGmjHKEeV",
        "colab_type": "text"
      },
      "source": [
        "Since the numbers are closer to middle section of the matrix, model seems to be fairly good."
      ]
    },
    {
      "cell_type": "code",
      "metadata": {
        "id": "ooMknWkRIXP1",
        "colab_type": "code",
        "outputId": "fee35eeb-e100-4577-e330-06368f336090",
        "colab": {
          "base_uri": "https://localhost:8080/",
          "height": 34
        }
      },
      "source": [
        "from sklearn import tree\n",
        "treeModel = tree.DecisionTreeClassifier(random_state=42) #Create decision tree classifier object\n",
        "treeModel.fit(X_train, y_train) #train the classifier using the training data\n",
        "\n",
        "t_predictions = treeModel.predict(X_test)\n",
        "t_acc = accuracy_score(y_test,t_predictions)\n",
        "print(t_acc)\n"
      ],
      "execution_count": 0,
      "outputs": [
        {
          "output_type": "stream",
          "text": [
            "0.4671916010498688\n"
          ],
          "name": "stdout"
        }
      ]
    },
    {
      "cell_type": "markdown",
      "metadata": {
        "id": "ezJHziL-LJyw",
        "colab_type": "text"
      },
      "source": [
        "Since Random Forests give better approximations for test data the model that is going to be used is random forests."
      ]
    },
    {
      "cell_type": "code",
      "metadata": {
        "id": "E1l4c-QNLGT9",
        "colab_type": "code",
        "outputId": "b0797ba4-b475-458f-80d7-5ba4ec9eaa38",
        "colab": {
          "base_uri": "https://localhost:8080/",
          "height": 618
        }
      },
      "source": [
        "import matplotlib.pyplot as plt\n",
        "%matplotlib inline \n",
        "n_estimators=[5,10,20,30,50,90,100,200,400,600]\n",
        "valError = list()\n",
        "testError = list()\n",
        "trainError = list()\n",
        "minError = 2\n",
        "bestEst = -1\n",
        "# Use the n_estimators values above.\n",
        "\n",
        "#Draw the graph below. \n",
        "for estimator in n_estimators:\n",
        "  rf_graph = RandomForestClassifier(n_estimators= estimator)\n",
        "  rf_graph.fit(X_train,y_train)\n",
        "  rf_predictionsTest = rf_graph.predict(X_test)\n",
        "  rf_predictionsVal = rf_graph.predict(X_val)\n",
        "\n",
        "  rf_predictionsTrain = rf_graph.predict(X_train)\n",
        "\n",
        "  testError_graph = 1 - accuracy_score(y_test, rf_predictionsTest)\n",
        "  validationError_graph = 1 - accuracy_score(y_val, rf_predictionsVal)\n",
        "  trainError_graph = 1 - accuracy_score(y_train,rf_predictionsTrain)\n",
        "  if(minError > testError_graph):\n",
        "    minError = testError_graph\n",
        "    bestEst = estimator\n",
        "\n",
        "\n",
        "  valError.append(validationError_graph)\n",
        "  testError.append(testError_graph)\n",
        "  trainError.append(trainError_graph)\n",
        "\n",
        "plt.figure(figsize=(20,10))\n",
        "plt.ylim((0,1))\n",
        "plt.plot(n_estimators,testError,\"r\",label = \"Test Error\",linestyle = \"-\",marker = \"o\")\n",
        "plt.plot(n_estimators,valError,\"g\",label = \"Validation Error\",linestyle = \":\",marker = \"o\")\n",
        "plt.plot(n_estimators,trainError,\"b\",label = \"Train Error\",linestyle = \"--\",marker = \"o\")\n",
        "\n",
        "plt.legend()\n",
        "plt.show()"
      ],
      "execution_count": 0,
      "outputs": [
        {
          "output_type": "display_data",
          "data": {
            "image/png": "[encoded data removed]",
            "text/plain": [
              "<Figure size 1440x720 with 1 Axes>"
            ]
          },
          "metadata": {
            "tags": []
          }
        }
      ]
    },
    {
      "cell_type": "code",
      "metadata": {
        "id": "EIB_imAMLsJM",
        "colab_type": "code",
        "outputId": "7c66bc0f-6d17-47cf-8b65-6c55e826fc76",
        "colab": {
          "base_uri": "https://localhost:8080/",
          "height": 87
        }
      },
      "source": [
        "feature_importances = pd.DataFrame(rf.feature_importances_, index = X_train.columns, columns=['importance']).sort_values('importance',ascending = False)\n",
        "print(feature_importances.iloc[:3])"
      ],
      "execution_count": 0,
      "outputs": [
        {
          "output_type": "stream",
          "text": [
            "                    importance\n",
            "Reviews               0.474009\n",
            "Size                  0.214533\n",
            "Category NUMERICAL    0.136512\n"
          ],
          "name": "stdout"
        }
      ]
    },
    {
      "cell_type": "code",
      "metadata": {
        "id": "Fv7J9rXxPMVH",
        "colab_type": "code",
        "colab": {}
      },
      "source": [
        ""
      ],
      "execution_count": 0,
      "outputs": []
    }
  ]
}